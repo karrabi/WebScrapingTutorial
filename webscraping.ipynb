{
 "cells": [
  {
   "cell_type": "markdown",
   "id": "e588b3f0",
   "metadata": {},
   "source": [
    "# WebScraiping"
   ]
  },
  {
   "cell_type": "markdown",
   "id": "9339e3ee",
   "metadata": {},
   "source": [
    "## HTML Tables structure"
   ]
  },
  {
   "cell_type": "markdown",
   "id": "3dddd902",
   "metadata": {},
   "source": [
    "Table Schematic"
   ]
  },
  {
   "cell_type": "markdown",
   "id": "e26781d5",
   "metadata": {},
   "source": [
    "![Table structure](./pic03.gif)"
   ]
  },
  {
   "cell_type": "markdown",
   "id": "cec18327",
   "metadata": {},
   "source": [
    "Table Structure"
   ]
  },
  {
   "cell_type": "markdown",
   "id": "4f1f9b5a",
   "metadata": {},
   "source": [
    "![Table structure](./pic01.gif)"
   ]
  },
  {
   "cell_type": "markdown",
   "id": "fb2010a7",
   "metadata": {},
   "source": [
    "Table HTML Code"
   ]
  },
  {
   "cell_type": "markdown",
   "id": "3c47b8fb",
   "metadata": {},
   "source": [
    "![Table structure](./pic02.png)"
   ]
  },
  {
   "cell_type": "markdown",
   "id": "b543acb9",
   "metadata": {},
   "source": [
    "Sample HTML Table Code"
   ]
  },
  {
   "cell_type": "raw",
   "id": "25ac4821",
   "metadata": {},
   "source": [
    "<!DOCTYPE html>\n",
    "<html>\n",
    "<head>\n",
    "  <title>Web Scraping Sample</title>\n",
    "</head>\n",
    "<body>\n",
    "  <table>\n",
    "    <tr>\n",
    "      <th>Name</th>\n",
    "      <th>Age</th>\n",
    "    </tr>\n",
    "    <tr>\n",
    "      <td>John</td>\n",
    "      <td>25</td>\n",
    "    </tr>\n",
    "    <tr>\n",
    "      <td>Jane</td>\n",
    "      <td>30</td>\n",
    "    </tr>\n",
    "  </table>\n",
    "</body>\n",
    "</html>"
   ]
  },
  {
   "cell_type": "markdown",
   "id": "bfadd530",
   "metadata": {},
   "source": [
    "![Table in Page](./result.png)"
   ]
  },
  {
   "cell_type": "markdown",
   "id": "c565d538",
   "metadata": {},
   "source": [
    "## Web Scraping with Python"
   ]
  },
  {
   "cell_type": "markdown",
   "id": "c6c0a859",
   "metadata": {},
   "source": [
    "import required packages"
   ]
  },
  {
   "cell_type": "code",
   "execution_count": null,
   "id": "b0ddd292",
   "metadata": {},
   "outputs": [],
   "source": [
    "import pandas as pd\n",
    "import requests\n",
    "from bs4 import BeautifulSoup"
   ]
  },
  {
   "cell_type": "markdown",
   "id": "c164e02a",
   "metadata": {},
   "source": [
    "This is our sample page to Scrape some Data From it. check it."
   ]
  },
  {
   "cell_type": "markdown",
   "id": "f8720330",
   "metadata": {},
   "source": [
    "https://afd.calpoly.edu/web/sample-tables"
   ]
  },
  {
   "cell_type": "code",
   "execution_count": null,
   "id": "77871d93",
   "metadata": {},
   "outputs": [],
   "source": [
    "# Send a request to the web page and fetch the HTML content\n",
    "url = 'https://afd.calpoly.edu/web/sample-tables'"
   ]
  },
  {
   "cell_type": "code",
   "execution_count": null,
   "id": "1d664bff",
   "metadata": {},
   "outputs": [],
   "source": [
    "response = requests.get(url)"
   ]
  },
  {
   "cell_type": "markdown",
   "id": "498aa6cf",
   "metadata": {},
   "source": [
    "Let's take a look at retrived Data"
   ]
  },
  {
   "cell_type": "markdown",
   "id": "018a2971",
   "metadata": {},
   "source": [
    "Every time you request for a webpage you receive two Data, onw for status of your request and one for result text </br>\n",
    "Let's take a look at them"
   ]
  },
  {
   "cell_type": "code",
   "execution_count": null,
   "id": "e9f4efb8",
   "metadata": {},
   "outputs": [],
   "source": [
    "response.status_code"
   ]
  },
  {
   "cell_type": "code",
   "execution_count": null,
   "id": "521e270d",
   "metadata": {},
   "outputs": [],
   "source": [
    "response.text"
   ]
  },
  {
   "cell_type": "markdown",
   "id": "9ca2ba11",
   "metadata": {},
   "source": [
    "Now it's time to make the result text pretty"
   ]
  },
  {
   "cell_type": "code",
   "execution_count": null,
   "id": "9758778d",
   "metadata": {},
   "outputs": [],
   "source": [
    "# Parse the HTML content using BeautifulSoup\n",
    "soup = BeautifulSoup(response.text, \"html.parser\")"
   ]
  },
  {
   "cell_type": "code",
   "execution_count": null,
   "id": "801f1985",
   "metadata": {},
   "outputs": [],
   "source": [
    "soup"
   ]
  },
  {
   "cell_type": "markdown",
   "id": "6851c442",
   "metadata": {},
   "source": [
    "So, now we have the comlete HTML source of page in a shape that we can understand better.</br>\n",
    "Let's extract Tables "
   ]
  },
  {
   "cell_type": "code",
   "execution_count": null,
   "id": "d58639a9",
   "metadata": {},
   "outputs": [],
   "source": [
    "# Find the table element using its tag name and any unique identifier (e.g., class, id)\n",
    "tables = soup.find_all('table')"
   ]
  },
  {
   "cell_type": "code",
   "execution_count": null,
   "id": "0b02c5f0",
   "metadata": {},
   "outputs": [],
   "source": [
    "tables"
   ]
  },
  {
   "cell_type": "markdown",
   "id": "9a98b0a8",
   "metadata": {},
   "source": [
    "The tables object is a list of all tables that we found in the page"
   ]
  },
  {
   "cell_type": "markdown",
   "id": "28380767",
   "metadata": {},
   "source": [
    "With this Function we can Extract all **th** tags and also **td** tags inside every **tr** tag"
   ]
  },
  {
   "cell_type": "code",
   "execution_count": null,
   "id": "e352b663",
   "metadata": {},
   "outputs": [],
   "source": [
    "# Extract the data from the table\n",
    "def extractTablesData(table):\n",
    "    all_rows = []\n",
    "    all_columns = []\n",
    "    if table:\n",
    "        # Extract the table headers (th) and append them to the table_data list\n",
    "        headers = table.find_all(\"th\")\n",
    "        header_row = [header.get_text(strip=True) for header in headers]\n",
    "        all_columns.append(header_row)\n",
    "\n",
    "        # Extract the table rows (tr) and append their data to the table_data list\n",
    "        rows = table.find_all(\"tr\")\n",
    "        for row in rows[1:]:  # Skip the first row as it contains the headers\n",
    "            row_data = [cell.get_text(strip=True) for cell in row.find_all(\"td\")]\n",
    "            all_rows.append(row_data)\n",
    "\n",
    "    return all_columns, all_rows"
   ]
  },
  {
   "cell_type": "markdown",
   "id": "ab3d38b2",
   "metadata": {},
   "source": [
    "In this step we want to iterate over all tables in list and retrive the header and data of each one "
   ]
  },
  {
   "cell_type": "code",
   "execution_count": null,
   "id": "8f95ec9a",
   "metadata": {},
   "outputs": [],
   "source": []
  },
  {
   "cell_type": "code",
   "execution_count": null,
   "id": "c1010678",
   "metadata": {},
   "outputs": [],
   "source": [
    "for table in tables:\n",
    "    cols, rows = extractTablesData(table)\n",
    "    print('*******')\n",
    "    print(cols)\n",
    "    print('*******')\n",
    "    print('')"
   ]
  },
  {
   "cell_type": "code",
   "execution_count": null,
   "id": "471081b8",
   "metadata": {},
   "outputs": [],
   "source": [
    "for table in tables:\n",
    "    cols, rows = extractTablesData(table)\n",
    "    print('*******')\n",
    "    print(cols)\n",
    "    print('--------')\n",
    "    for row in rows:\n",
    "        print(row)\n",
    "    print('---------')\n",
    "    break"
   ]
  },
  {
   "cell_type": "code",
   "execution_count": null,
   "id": "515f9b44",
   "metadata": {},
   "outputs": [],
   "source": [
    "for table in tables:\n",
    "    cols, rows = extractTablesData(table)\n",
    "    columns = cols[0]\n",
    "\n",
    "    break\n",
    "    \n",
    "print(columns)"
   ]
  },
  {
   "cell_type": "code",
   "execution_count": null,
   "id": "eed308c5",
   "metadata": {},
   "outputs": [],
   "source": [
    "for table in tables:\n",
    "    cols, rows = extractTablesData(table)\n",
    "    for row in rows:\n",
    "        print(row)\n",
    "        break\n",
    "    break"
   ]
  },
  {
   "cell_type": "code",
   "execution_count": null,
   "id": "85fd3384",
   "metadata": {},
   "outputs": [],
   "source": [
    "for table in tables:\n",
    "    cols, rows = extractTablesData(table)\n",
    "    for row in rows:\n",
    "        print(row[0])\n",
    "        print(row[1])\n",
    "        print(row[2])\n",
    "        break\n",
    "    break"
   ]
  },
  {
   "cell_type": "code",
   "execution_count": null,
   "id": "eec9d36b",
   "metadata": {},
   "outputs": [],
   "source": [
    "Description = []\n",
    "Date = []\n",
    "Location = []\n",
    "\n",
    "for table in tables:\n",
    "    cols, rows = extractTablesData(table)\n",
    "    for row in rows:\n",
    "        Description.append(row[0])\n",
    "        Date.append(row[1])\n",
    "        Location.append(row[2])\n",
    "        break\n",
    "    break"
   ]
  },
  {
   "cell_type": "code",
   "execution_count": null,
   "id": "a2312751",
   "metadata": {},
   "outputs": [],
   "source": [
    "print(Description)"
   ]
  },
  {
   "cell_type": "code",
   "execution_count": null,
   "id": "13db99a8",
   "metadata": {},
   "outputs": [],
   "source": [
    "print(Date)"
   ]
  },
  {
   "cell_type": "code",
   "execution_count": null,
   "id": "f8290a38",
   "metadata": {},
   "outputs": [],
   "source": [
    "print(Location)"
   ]
  },
  {
   "cell_type": "code",
   "execution_count": null,
   "id": "138c54a5",
   "metadata": {},
   "outputs": [],
   "source": [
    "Description = []\n",
    "Date = []\n",
    "Location = []\n",
    "\n",
    "for table in tables:\n",
    "    cols, rows = extractTablesData(table)\n",
    "    for row in rows:\n",
    "        Description.append(row[0])\n",
    "        Date.append(row[1])\n",
    "        Location.append(row[2])\n",
    "    break"
   ]
  },
  {
   "cell_type": "code",
   "execution_count": null,
   "id": "fa41b3d8",
   "metadata": {},
   "outputs": [],
   "source": [
    "print(Description)"
   ]
  },
  {
   "cell_type": "code",
   "execution_count": null,
   "id": "c088fcb2",
   "metadata": {},
   "outputs": [],
   "source": [
    "print(columns)"
   ]
  },
  {
   "cell_type": "code",
   "execution_count": null,
   "id": "712a8bd7",
   "metadata": {},
   "outputs": [],
   "source": [
    "print(Description)"
   ]
  },
  {
   "cell_type": "code",
   "execution_count": null,
   "id": "39335b61",
   "metadata": {},
   "outputs": [],
   "source": [
    "print(Date)"
   ]
  },
  {
   "cell_type": "code",
   "execution_count": null,
   "id": "57e09fb1",
   "metadata": {},
   "outputs": [],
   "source": [
    "print(Location)"
   ]
  },
  {
   "cell_type": "code",
   "execution_count": null,
   "id": "0c493f4f",
   "metadata": {},
   "outputs": [],
   "source": [
    "dic = {\n",
    "    'Description': Description,\n",
    "    'Date': Date,\n",
    "    'Location': Location\n",
    "}\n"
   ]
  },
  {
   "cell_type": "code",
   "execution_count": null,
   "id": "28f65f34",
   "metadata": {},
   "outputs": [],
   "source": [
    "dic"
   ]
  },
  {
   "cell_type": "code",
   "execution_count": null,
   "id": "98ef8616",
   "metadata": {},
   "outputs": [],
   "source": [
    "df = pd.DataFrame(dic)"
   ]
  },
  {
   "cell_type": "code",
   "execution_count": null,
   "id": "20828e6e",
   "metadata": {},
   "outputs": [],
   "source": [
    "df"
   ]
  },
  {
   "cell_type": "markdown",
   "id": "2cd4f383",
   "metadata": {},
   "source": [
    "![Table structure](./table.png)"
   ]
  },
  {
   "cell_type": "code",
   "execution_count": null,
   "id": "3ea693a7",
   "metadata": {},
   "outputs": [],
   "source": []
  }
 ],
 "metadata": {
  "kernelspec": {
   "display_name": "Python 3 (ipykernel)",
   "language": "python",
   "name": "python3"
  },
  "language_info": {
   "codemirror_mode": {
    "name": "ipython",
    "version": 3
   },
   "file_extension": ".py",
   "mimetype": "text/x-python",
   "name": "python",
   "nbconvert_exporter": "python",
   "pygments_lexer": "ipython3",
   "version": "3.11.2"
  }
 },
 "nbformat": 4,
 "nbformat_minor": 5
}
